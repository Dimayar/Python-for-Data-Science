{
 "cells": [
  {
   "cell_type": "code",
   "execution_count": 1,
   "metadata": {
    "_cell_guid": "b1076dfc-b9ad-4769-8c92-a6c4dae69d19",
    "_uuid": "8f2839f25d086af736a60e9eeb907d3b93b6e0e5",
    "execution": {
     "iopub.execute_input": "2022-05-31T15:21:02.426530Z",
     "iopub.status.busy": "2022-05-31T15:21:02.425649Z",
     "iopub.status.idle": "2022-05-31T15:21:02.438643Z",
     "shell.execute_reply": "2022-05-31T15:21:02.437400Z",
     "shell.execute_reply.started": "2022-05-31T15:21:02.426480Z"
    }
   },
   "outputs": [
    {
     "name": "stdout",
     "output_type": "stream",
     "text": [
      "[12 13 14 15 16 17 18 19 20 21 22 23]\n"
     ]
    }
   ],
   "source": [
    "# Задание 1\n",
    "# Создать одномерный массив Numpy под названием a из 12 последовательных целых чисел чисел от 12 до 24 невключительно\n",
    "\n",
    "import numpy as np\n",
    "\n",
    "a = np.arange(12, 24)\n",
    "print(a)"
   ]
  },
  {
   "cell_type": "code",
   "execution_count": 2,
   "metadata": {
    "execution": {
     "iopub.execute_input": "2022-05-31T14:50:22.764004Z",
     "iopub.status.busy": "2022-05-31T14:50:22.763108Z",
     "iopub.status.idle": "2022-05-31T14:50:22.774238Z",
     "shell.execute_reply": "2022-05-31T14:50:22.773010Z",
     "shell.execute_reply.started": "2022-05-31T14:50:22.763949Z"
    }
   },
   "outputs": [
    {
     "name": "stdout",
     "output_type": "stream",
     "text": [
      "[[12 13 14 15 16 17 18 19 20 21 22 23]]\n",
      "\n",
      "[[12 13 14 15 16 17]\n",
      " [18 19 20 21 22 23]]\n",
      "\n",
      "[[12 13]\n",
      " [14 15]\n",
      " [16 17]\n",
      " [18 19]\n",
      " [20 21]\n",
      " [22 23]]\n",
      "\n",
      "[[12 13 14 15]\n",
      " [16 17 18 19]\n",
      " [20 21 22 23]]\n",
      "\n",
      "[[12 13 14]\n",
      " [15 16 17]\n",
      " [18 19 20]\n",
      " [21 22 23]]\n"
     ]
    }
   ],
   "source": [
    "# Задание 2\n",
    "# Создать 5 двумерных массивов разной формы из массива a. Не использовать в аргументах метода reshape число -1.\n",
    "\n",
    "a1 = a.reshape(1, 12)\n",
    "a2 = a.reshape(2, 6)\n",
    "a3 = a.reshape(6, 2)\n",
    "a4 = a.reshape(3, 4)\n",
    "a5 = a.reshape(4, 3)\n",
    "\n",
    "\n",
    "print(a1)\n",
    "print()\n",
    "print(a2)\n",
    "print()\n",
    "print(a3)\n",
    "print()\n",
    "print(a4)\n",
    "print()\n",
    "print(a5)"
   ]
  },
  {
   "cell_type": "code",
   "execution_count": 3,
   "metadata": {
    "execution": {
     "iopub.execute_input": "2022-05-31T14:50:34.043983Z",
     "iopub.status.busy": "2022-05-31T14:50:34.043176Z",
     "iopub.status.idle": "2022-05-31T14:50:34.054523Z",
     "shell.execute_reply": "2022-05-31T14:50:34.053298Z",
     "shell.execute_reply.started": "2022-05-31T14:50:34.043918Z"
    }
   },
   "outputs": [
    {
     "name": "stdout",
     "output_type": "stream",
     "text": [
      "[[12]\n",
      " [13]\n",
      " [14]\n",
      " [15]\n",
      " [16]\n",
      " [17]\n",
      " [18]\n",
      " [19]\n",
      " [20]\n",
      " [21]\n",
      " [22]\n",
      " [23]]\n",
      "\n",
      "[[12 13 14 15 16 17]\n",
      " [18 19 20 21 22 23]]\n",
      "\n",
      "[[12 13]\n",
      " [14 15]\n",
      " [16 17]\n",
      " [18 19]\n",
      " [20 21]\n",
      " [22 23]]\n",
      "\n",
      "[[12 13 14 15]\n",
      " [16 17 18 19]\n",
      " [20 21 22 23]]\n",
      "\n",
      "[[12 13 14]\n",
      " [15 16 17]\n",
      " [18 19 20]\n",
      " [21 22 23]]\n"
     ]
    }
   ],
   "source": [
    "# Задание 3\n",
    "# Создать 5 двумерных массивов разной формы из массива a. \n",
    "# Использовать в аргументах метода reshape число -1 (в трех примерах - для обозначения числа столбцов, в двух - для строк).\n",
    "\n",
    "a1 = a.reshape(12, -1)\n",
    "a2 = a.reshape(2, -1)\n",
    "a3 = a.reshape(-1, 2)\n",
    "a4 = a.reshape(-1, 4)\n",
    "a5 = a.reshape(-1, 3)\n",
    "\n",
    "\n",
    "print(a1)\n",
    "print()\n",
    "print(a2)\n",
    "print()\n",
    "print(a3)\n",
    "print()\n",
    "print(a4)\n",
    "print()\n",
    "print(a5)"
   ]
  },
  {
   "cell_type": "code",
   "execution_count": null,
   "metadata": {},
   "outputs": [],
   "source": [
    "# Задание 4\n",
    "# Можно ли массив Numpy, состоящий из одного столбца и 12 строк, назвать одномерным?\n",
    "Нет."
   ]
  },
  {
   "cell_type": "code",
   "execution_count": 4,
   "metadata": {
    "execution": {
     "iopub.execute_input": "2022-05-31T14:27:56.126923Z",
     "iopub.status.busy": "2022-05-31T14:27:56.126351Z",
     "iopub.status.idle": "2022-05-31T14:27:56.135841Z",
     "shell.execute_reply": "2022-05-31T14:27:56.134573Z",
     "shell.execute_reply.started": "2022-05-31T14:27:56.126884Z"
    }
   },
   "outputs": [
    {
     "name": "stdout",
     "output_type": "stream",
     "text": [
      "[[ 0.73217164  0.39247984  1.50811296 -0.96495504]\n",
      " [-1.72238959 -0.22684864  0.80404841 -2.45889848]\n",
      " [-1.00254985  0.12721257 -0.02533537  1.91830157]]\n"
     ]
    }
   ],
   "source": [
    "# Задание 5\n",
    "# Создать массив из 3 строк и 4 столбцов, состоящий из случайных чисел с плавающей запятой из нормального распределения со средним, равным 0 \n",
    "# и среднеквадратичным отклонением, равным 1.0. Получить из этого массива одномерный массив с таким же атрибутом size, как и исходный массив.\n",
    "\n",
    "a = np.random.randn(3, 4)\n",
    "print(a)"
   ]
  },
  {
   "cell_type": "code",
   "execution_count": 5,
   "metadata": {
    "execution": {
     "iopub.execute_input": "2022-05-31T14:28:18.298769Z",
     "iopub.status.busy": "2022-05-31T14:28:18.298340Z",
     "iopub.status.idle": "2022-05-31T14:28:18.304645Z",
     "shell.execute_reply": "2022-05-31T14:28:18.303694Z",
     "shell.execute_reply.started": "2022-05-31T14:28:18.298732Z"
    }
   },
   "outputs": [
    {
     "name": "stdout",
     "output_type": "stream",
     "text": [
      "[ 0.73217164  0.39247984  1.50811296 -0.96495504 -1.72238959 -0.22684864\n",
      "  0.80404841 -2.45889848 -1.00254985  0.12721257 -0.02533537  1.91830157]\n"
     ]
    }
   ],
   "source": [
    "b = a.flatten()\n",
    "print(b)"
   ]
  },
  {
   "cell_type": "code",
   "execution_count": 6,
   "metadata": {
    "execution": {
     "iopub.execute_input": "2022-05-31T14:33:31.850169Z",
     "iopub.status.busy": "2022-05-31T14:33:31.849715Z",
     "iopub.status.idle": "2022-05-31T14:33:31.857100Z",
     "shell.execute_reply": "2022-05-31T14:33:31.855930Z",
     "shell.execute_reply.started": "2022-05-31T14:33:31.850137Z"
    }
   },
   "outputs": [
    {
     "name": "stdout",
     "output_type": "stream",
     "text": [
      "[20 18 16 14 12 10  8  6  4  2]\n"
     ]
    }
   ],
   "source": [
    "# Задание 6\n",
    "# Создать массив a, состоящий из целых чисел, убывающих от 20 до 0 невключительно с интервалом 2.\n",
    "\n",
    "a = np.arange(20, 0, -2)\n",
    "print(a)"
   ]
  },
  {
   "cell_type": "code",
   "execution_count": 8,
   "metadata": {
    "execution": {
     "iopub.execute_input": "2022-05-31T14:36:16.221229Z",
     "iopub.status.busy": "2022-05-31T14:36:16.220741Z",
     "iopub.status.idle": "2022-05-31T14:36:16.228343Z",
     "shell.execute_reply": "2022-05-31T14:36:16.227045Z",
     "shell.execute_reply.started": "2022-05-31T14:36:16.221195Z"
    }
   },
   "outputs": [
    {
     "name": "stdout",
     "output_type": "stream",
     "text": [
      "[20 18 16 14 12 10  8  6  4  2]\n"
     ]
    }
   ],
   "source": [
    "# Задание 7\n",
    "# Создать массив b, состоящий из 1 строки и 10 столбцов: целых чисел, убывающих от 20 до 1 невключительно с интервалом 2. \n",
    "# В чем разница между массивами a и b?\n",
    "\n",
    "b = np.arange(20, 1, -2)\n",
    "print(b)\n",
    "\n",
    "#Разницы между массивами a и b нет."
   ]
  },
  {
   "cell_type": "code",
   "execution_count": 9,
   "metadata": {
    "execution": {
     "iopub.execute_input": "2022-05-31T14:57:49.795700Z",
     "iopub.status.busy": "2022-05-31T14:57:49.794966Z",
     "iopub.status.idle": "2022-05-31T14:57:49.813117Z",
     "shell.execute_reply": "2022-05-31T14:57:49.812173Z",
     "shell.execute_reply.started": "2022-05-31T14:57:49.795653Z"
    }
   },
   "outputs": [
    {
     "name": "stdout",
     "output_type": "stream",
     "text": [
      "Массив a\n",
      "[[0. 0.]\n",
      " [0. 0.]]\n",
      "Массив b\n",
      "[[1. 1.]\n",
      " [1. 1.]\n",
      " [1. 1.]]\n",
      "Массив v\n",
      "[[0. 0.]\n",
      " [0. 0.]\n",
      " [1. 1.]\n",
      " [1. 1.]\n",
      " [1. 1.]]\n"
     ]
    },
    {
     "data": {
      "text/plain": [
       "10"
      ]
     },
     "execution_count": 9,
     "metadata": {},
     "output_type": "execute_result"
    }
   ],
   "source": [
    "# Задание 8\n",
    "# Вертикально соединить массивы a и b. a - двумерный массив из нулей, число строк которого больше 1 и на 1 меньше, \n",
    "# чем число строк двумерного массива b, состоящего из единиц. Итоговый массив v должен иметь атрибут size, равный 10.\n",
    "\n",
    "a = np.zeros((2, 2))\n",
    "b = np.ones((3, 2))\n",
    "v = np.vstack((a, b))\n",
    "print('Массив a', a, sep='\\n')\n",
    "print('Массив b', b, sep='\\n')\n",
    "print('Массив v', v, sep='\\n')\n",
    "v.size"
   ]
  },
  {
   "cell_type": "code",
   "execution_count": 10,
   "metadata": {
    "execution": {
     "iopub.execute_input": "2022-05-31T15:05:37.248512Z",
     "iopub.status.busy": "2022-05-31T15:05:37.247317Z",
     "iopub.status.idle": "2022-05-31T15:05:37.257022Z",
     "shell.execute_reply": "2022-05-31T15:05:37.255644Z",
     "shell.execute_reply.started": "2022-05-31T15:05:37.248451Z"
    }
   },
   "outputs": [
    {
     "name": "stdout",
     "output_type": "stream",
     "text": [
      "[ 0  1  2  3  4  5  6  7  8  9 10 11]\n"
     ]
    }
   ],
   "source": [
    "# Задание 9\n",
    "# Создать одномерный массив а, состоящий из последовательности целых чисел от 0 до 12. \n",
    "# Поменять форму этого массива, чтобы получилась матрица A (двумерный массив Numpy), состоящая из 4 строк и 3 столбцов. \n",
    "# Получить матрицу At путем транспонирования матрицы A. Получить матрицу B, умножив матрицу A на матрицу At с помощью матричного умножения. \n",
    "# Какой размер имеет матрица B? Получится ли вычислить обратную матрицу для матрицы B и почему?\n",
    "\n",
    "a = np.arange(0, 12)\n",
    "print(a)"
   ]
  },
  {
   "cell_type": "code",
   "execution_count": 11,
   "metadata": {
    "execution": {
     "iopub.execute_input": "2022-05-31T15:05:39.381229Z",
     "iopub.status.busy": "2022-05-31T15:05:39.380249Z",
     "iopub.status.idle": "2022-05-31T15:05:39.388652Z",
     "shell.execute_reply": "2022-05-31T15:05:39.387657Z",
     "shell.execute_reply.started": "2022-05-31T15:05:39.381169Z"
    }
   },
   "outputs": [
    {
     "name": "stdout",
     "output_type": "stream",
     "text": [
      "[[ 0  1  2]\n",
      " [ 3  4  5]\n",
      " [ 6  7  8]\n",
      " [ 9 10 11]]\n"
     ]
    }
   ],
   "source": [
    "A = a.reshape(4, 3)\n",
    "print(A)"
   ]
  },
  {
   "cell_type": "code",
   "execution_count": 12,
   "metadata": {
    "execution": {
     "iopub.execute_input": "2022-05-31T15:06:48.824809Z",
     "iopub.status.busy": "2022-05-31T15:06:48.824287Z",
     "iopub.status.idle": "2022-05-31T15:06:48.832169Z",
     "shell.execute_reply": "2022-05-31T15:06:48.830988Z",
     "shell.execute_reply.started": "2022-05-31T15:06:48.824772Z"
    }
   },
   "outputs": [
    {
     "name": "stdout",
     "output_type": "stream",
     "text": [
      "[[ 0  3  6  9]\n",
      " [ 1  4  7 10]\n",
      " [ 2  5  8 11]]\n"
     ]
    }
   ],
   "source": [
    "At = np.transpose(A)\n",
    "print(At)"
   ]
  },
  {
   "cell_type": "code",
   "execution_count": 13,
   "metadata": {
    "execution": {
     "iopub.execute_input": "2022-05-31T15:09:34.439362Z",
     "iopub.status.busy": "2022-05-31T15:09:34.438127Z",
     "iopub.status.idle": "2022-05-31T15:09:34.447587Z",
     "shell.execute_reply": "2022-05-31T15:09:34.446346Z",
     "shell.execute_reply.started": "2022-05-31T15:09:34.439306Z"
    }
   },
   "outputs": [
    {
     "name": "stdout",
     "output_type": "stream",
     "text": [
      "[[  5  14  23  32]\n",
      " [ 14  50  86 122]\n",
      " [ 23  86 149 212]\n",
      " [ 32 122 212 302]]\n"
     ]
    }
   ],
   "source": [
    "B = A.dot(At)\n",
    "print(B)"
   ]
  },
  {
   "cell_type": "code",
   "execution_count": 14,
   "metadata": {
    "execution": {
     "iopub.execute_input": "2022-05-31T15:11:25.338474Z",
     "iopub.status.busy": "2022-05-31T15:11:25.337350Z",
     "iopub.status.idle": "2022-05-31T15:11:25.348918Z",
     "shell.execute_reply": "2022-05-31T15:11:25.347864Z",
     "shell.execute_reply.started": "2022-05-31T15:11:25.338420Z"
    }
   },
   "outputs": [
    {
     "data": {
      "text/plain": [
       "16"
      ]
     },
     "execution_count": 14,
     "metadata": {},
     "output_type": "execute_result"
    }
   ],
   "source": [
    "B.size\n",
    "# Размер матрицы B 4х4."
   ]
  },
  {
   "cell_type": "code",
   "execution_count": 15,
   "metadata": {
    "execution": {
     "iopub.execute_input": "2022-05-31T15:14:13.458344Z",
     "iopub.status.busy": "2022-05-31T15:14:13.456959Z",
     "iopub.status.idle": "2022-05-31T15:14:13.464981Z",
     "shell.execute_reply": "2022-05-31T15:14:13.463911Z",
     "shell.execute_reply.started": "2022-05-31T15:14:13.458284Z"
    }
   },
   "outputs": [
    {
     "name": "stdout",
     "output_type": "stream",
     "text": [
      "0.0\n"
     ]
    }
   ],
   "source": [
    "d = np.linalg.det(B)\n",
    "print(d)\n",
    "# Вычислить обратную матрицу для матрицы B не получиться.\n",
    "# Обратную матрицу можно посчитать только для матрицы,определитель которой не равен 0."
   ]
  }
 ],
 "metadata": {
  "kernelspec": {
   "display_name": "Python 3 (ipykernel)",
   "language": "python",
   "name": "python3"
  },
  "language_info": {
   "codemirror_mode": {
    "name": "ipython",
    "version": 3
   },
   "file_extension": ".py",
   "mimetype": "text/x-python",
   "name": "python",
   "nbconvert_exporter": "python",
   "pygments_lexer": "ipython3",
   "version": "3.9.12"
  }
 },
 "nbformat": 4,
 "nbformat_minor": 4
}
