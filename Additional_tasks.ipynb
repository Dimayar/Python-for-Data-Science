{
 "cells": [
  {
   "cell_type": "markdown",
   "metadata": {
    "_cell_guid": "b1076dfc-b9ad-4769-8c92-a6c4dae69d19",
    "_uuid": "8f2839f25d086af736a60e9eeb907d3b93b6e0e5"
   },
   "source": [
    "1). Загрузите датасет Wine из встроенных датасетов sklearn.datasets с помощью функции load_wine в переменную data."
   ]
  },
  {
   "cell_type": "code",
   "execution_count": 2,
   "metadata": {
    "execution": {
     "iopub.execute_input": "2022-06-06T11:42:22.986425Z",
     "iopub.status.busy": "2022-06-06T11:42:22.985062Z",
     "iopub.status.idle": "2022-06-06T11:42:23.703119Z",
     "shell.execute_reply": "2022-06-06T11:42:23.702021Z",
     "shell.execute_reply.started": "2022-06-06T11:42:22.986372Z"
    }
   },
   "outputs": [],
   "source": [
    "import numpy as np\n",
    "import pandas as pd\n",
    "from sklearn.datasets import load_wine"
   ]
  },
  {
   "cell_type": "code",
   "execution_count": 3,
   "metadata": {
    "execution": {
     "iopub.execute_input": "2022-06-06T11:42:27.679145Z",
     "iopub.status.busy": "2022-06-06T11:42:27.678714Z",
     "iopub.status.idle": "2022-06-06T11:42:27.695230Z",
     "shell.execute_reply": "2022-06-06T11:42:27.694117Z",
     "shell.execute_reply.started": "2022-06-06T11:42:27.679111Z"
    }
   },
   "outputs": [],
   "source": [
    "data = load_wine()\n",
    "data.keys()"
   ]
  },
  {
   "cell_type": "code",
   "execution_count": null,
   "metadata": {},
   "outputs": [],
   "source": [
    "2). Полученный датасет не является датафреймом. Это структура данных, имеющая ключи аналогично словарю. \n",
    "    Просмотрите тип данных этой структуры данных и создайте список data_keys, содержащий ее ключи."
   ]
  },
  {
   "cell_type": "code",
   "execution_count": 4,
   "metadata": {
    "execution": {
     "iopub.execute_input": "2022-06-06T11:42:30.500245Z",
     "iopub.status.busy": "2022-06-06T11:42:30.499793Z",
     "iopub.status.idle": "2022-06-06T11:42:30.507527Z",
     "shell.execute_reply": "2022-06-06T11:42:30.506653Z",
     "shell.execute_reply.started": "2022-06-06T11:42:30.500198Z"
    }
   },
   "outputs": [],
   "source": [
    "data_keys = data.keys()\n",
    "data_keys"
   ]
  },
  {
   "cell_type": "markdown",
   "metadata": {},
   "source": [
    "3). Просмотрите данные, описание и названия признаков в датасете. Описание нужно вывести в виде привычного, аккуратно оформленного текста, без обозначений переноса строки, но с самими переносами и т.д."
   ]
  },
  {
   "cell_type": "code",
   "execution_count": 11,
   "metadata": {
    "execution": {
     "iopub.execute_input": "2022-06-06T11:45:48.630979Z",
     "iopub.status.busy": "2022-06-06T11:45:48.630376Z",
     "iopub.status.idle": "2022-06-06T11:45:48.640221Z",
     "shell.execute_reply": "2022-06-06T11:45:48.639168Z",
     "shell.execute_reply.started": "2022-06-06T11:45:48.630935Z"
    }
   },
   "outputs": [],
   "source": [
    "data.data"
   ]
  },
  {
   "cell_type": "markdown",
   "metadata": {},
   "source": []
  },
  {
   "cell_type": "code",
   "execution_count": 12,
   "metadata": {
    "execution": {
     "iopub.execute_input": "2022-06-06T11:46:06.982522Z",
     "iopub.status.busy": "2022-06-06T11:46:06.982114Z",
     "iopub.status.idle": "2022-06-06T11:46:06.989330Z",
     "shell.execute_reply": "2022-06-06T11:46:06.988431Z",
     "shell.execute_reply.started": "2022-06-06T11:46:06.982487Z"
    }
   },
   "outputs": [],
   "source": [
    "data.feature_names"
   ]
  },
  {
   "cell_type": "markdown",
   "metadata": {},
   "source": [
    "4). Сколько классов содержит целевая переменная датасета? Выведите названия классов."
   ]
  },
  {
   "cell_type": "code",
   "execution_count": 16,
   "metadata": {
    "execution": {
     "iopub.execute_input": "2022-06-06T11:49:54.656628Z",
     "iopub.status.busy": "2022-06-06T11:49:54.656267Z",
     "iopub.status.idle": "2022-06-06T11:49:54.663221Z",
     "shell.execute_reply": "2022-06-06T11:49:54.662175Z",
     "shell.execute_reply.started": "2022-06-06T11:49:54.656597Z"
    }
   },
   "outputs": [],
   "source": [
    "len(data.target_names)"
   ]
  },
  {
   "cell_type": "markdown",
   "metadata": {},
   "source": []
  },
  {
   "cell_type": "code",
   "execution_count": 15,
   "metadata": {
    "execution": {
     "iopub.execute_input": "2022-06-06T11:49:38.350726Z",
     "iopub.status.busy": "2022-06-06T11:49:38.350262Z",
     "iopub.status.idle": "2022-06-06T11:49:38.357800Z",
     "shell.execute_reply": "2022-06-06T11:49:38.356602Z",
     "shell.execute_reply.started": "2022-06-06T11:49:38.350658Z"
    }
   },
   "outputs": [],
   "source": [
    "data.target_names"
   ]
  },
  {
   "cell_type": "markdown",
   "metadata": {},
   "source": [
    "5). На основе данных датасета (они содержатся в двумерном массиве Numpy) и названий признаков создайте датафрейм под названием X."
   ]
  },
  {
   "cell_type": "code",
   "execution_count": 19,
   "metadata": {
    "execution": {
     "iopub.execute_input": "2022-06-06T11:56:40.087431Z",
     "iopub.status.busy": "2022-06-06T11:56:40.086560Z",
     "iopub.status.idle": "2022-06-06T11:56:40.110722Z",
     "shell.execute_reply": "2022-06-06T11:56:40.109686Z",
     "shell.execute_reply.started": "2022-06-06T11:56:40.087380Z"
    }
   },
   "outputs": [],
   "source": [
    "feature_names = data[\"feature_names\"]\n",
    "data = data[\"data\"]\n",
    "X = pd.DataFrame(data, columns=feature_names)\n",
    "\n",
    "X.head()"
   ]
  },
  {
   "cell_type": "markdown",
   "metadata": {},
   "source": []
  },
  {
   "cell_type": "markdown",
   "metadata": {},
   "source": []
  }
 ],
 "metadata": {
  "kernelspec": {
   "display_name": "Python 3 (ipykernel)",
   "language": "python",
   "name": "python3"
  },
  "language_info": {
   "codemirror_mode": {
    "name": "ipython",
    "version": 3
   },
   "file_extension": ".py",
   "mimetype": "text/x-python",
   "name": "python",
   "nbconvert_exporter": "python",
   "pygments_lexer": "ipython3",
   "version": "3.7.12"
  }
 },
 "nbformat": 4,
 "nbformat_minor": 4
}
