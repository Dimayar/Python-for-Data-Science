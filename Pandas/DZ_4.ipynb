{
 "cells": [
  {
   "cell_type": "code",
   "execution_count": 2,
   "id": "f50543b3",
   "metadata": {},
   "outputs": [
    {
     "name": "stdout",
     "output_type": "stream",
     "text": [
      "                price                       \n",
      "            Мин. цена Мак. цена Средняя цена\n",
      "author_name                                 \n",
      "Островский        290       370   330.000000\n",
      "Тургенев          300       450   366.666667\n",
      "Чехов             450       500   475.000000\n"
     ]
    }
   ],
   "source": [
    "import pandas as pd\n",
    "\n",
    "authors = pd.DataFrame({'author_id':[1, 2, 3], \n",
    "                        'author_name':['Тургенев', 'Чехов', 'Островский']}, \n",
    "                        columns=['author_id', 'author_name'])\n",
    "\n",
    "book = pd.DataFrame({'author_id':[1, 1, 1, 2, 2, 3, 3], \n",
    "                     'book_title':['Отцы и дети', 'Рудин', 'Дворянское гнездо', 'Толстый и тонкий', 'Дама с собачкой', 'Гроза', 'Таланты и поклонники'],\n",
    "                     'price':[450, 300, 350, 500, 450, 370, 290]}, \n",
    "                     columns=['author_id', 'book_title', 'price'])\n",
    "\n",
    "authors_price = pd.merge(authors, book, on = 'author_id', how = 'inner')\n",
    "\n",
    "authors_stat = authors_price.groupby('author_name').agg({'price': ['min', 'max', 'mean']})\n",
    "authors_stat = authors_stat.rename(columns={'min':'Мин. цена', 'max':'Мак. цена', 'mean':'Средняя цена'})\n",
    "\n",
    "print(authors_stat)"
   ]
  }
 ],
 "metadata": {
  "kernelspec": {
   "display_name": "Python 3 (ipykernel)",
   "language": "python",
   "name": "python3"
  },
  "language_info": {
   "codemirror_mode": {
    "name": "ipython",
    "version": 3
   },
   "file_extension": ".py",
   "mimetype": "text/x-python",
   "name": "python",
   "nbconvert_exporter": "python",
   "pygments_lexer": "ipython3",
   "version": "3.9.12"
  }
 },
 "nbformat": 4,
 "nbformat_minor": 5
}
